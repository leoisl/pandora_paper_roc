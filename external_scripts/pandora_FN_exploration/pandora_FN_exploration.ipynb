{
 "cells": [
  {
   "cell_type": "code",
   "execution_count": 17,
   "metadata": {},
   "outputs": [],
   "source": [
    "import pandas as pd\n",
    "from glob import glob\n",
    "from evaluate.report import Report, PrecisionReport, RecallReport\n",
    "from collections import defaultdict, namedtuple\n",
    "import re\n",
    "import intervaltree\n",
    "import seaborn as sns\n",
    "sns.set()\n",
    "import json\n",
    "import pickle\n",
    "\n",
    "def dump_object_to_json(dictionary, filename):\n",
    "    json_str = json.dumps(dictionary)\n",
    "    with open(f\"{filename}.json\",\"w\") as fout:\n",
    "        fout.write(json_str)\n",
    "\n",
    "def dump_object(obj, filename):\n",
    "    with open(f\"{filename}.pickle\",\"w\") as fout:\n",
    "        pickle.dump(obj, fout)"
   ]
  },
  {
   "cell_type": "code",
   "execution_count": 2,
   "metadata": {},
   "outputs": [],
   "source": [
    "##################################################################################################################\n",
    "# configs\n",
    "# local\n",
    "reports_tsv_glob_path = \"/home/leandro/git/pandora_paper_roc/external_scripts/pandora_FN_exploration/data/hps/nobackup/iqbal/leandro/pdrv2/paper_pandora2020_analyses/out_20_way/pandora_paper_roc/analysis_output_pandora_paper_tag1/recall/reports/*/100x/pandora_nanopore_withdenovo/coverage_filter_0/strand_bias_filter_0.0/gaps_filter_1.0/gt_conf_percentile_0/*.tsv\"\n",
    "samples = ['063_STEC', 'CFT073', 'Escherichia_coli_MINF_1D', 'Escherichia_coli_MINF_9A', 'Escherichia_coli_MSB1_4E']  # TODO: remove\n",
    "gene_localisation_dir=\"/home/leandro/git/pandora_paper_roc/external_scripts/pandora_FN_exploration/data/hps/nobackup/iqbal/leandro/pdrv2/paper_pandora2020_analyses/out_20_way/pandora_gene_distance/gene_distance_pandora_paper_tag1/genes_from_truth_or_ref/pandora_nanopore_100x_withdenovo\"\n",
    "pandora_multisample_vcf_ref=\"data/pandora_multisample.vcf_ref.fa\"\n",
    "\n",
    "# cluster\n",
    "# reports_tsv_glob_path = \"/hps/nobackup/iqbal/leandro/pdrv2/paper_pandora2020_analyses/out_20_way/pandora_paper_roc/analysis_output_pandora_paper_tag1/recall/reports/*/100x/pandora_nanopore_withdenovo/coverage_filter_0/strand_bias_filter_0.0/gaps_filter_1.0/gt_conf_percentile_0/*.tsv\"\n",
    "# samples = ['063_STEC', 'Escherichia_coli_MINF_1D', 'Escherichia_coli_MINF_9A', 'Escherichia_coli_MSB1_4E', 'Escherichia_coli_MSB1_7A', 'Escherichia_coli_MSB1_8G', 'H131800734', 'CFT073', 'Escherichia_coli_MINF_7C', 'Escherichia_coli_MSB1_1A', 'Escherichia_coli_MSB1_4I', 'Escherichia_coli_MSB1_7C', 'Escherichia_coli_MSB1_9D', 'ST38', 'Escherichia_coli_MINF_1A', 'Escherichia_coli_MINF_8D', 'Escherichia_coli_MSB1_3B', 'Escherichia_coli_MSB1_6C', 'Escherichia_coli_MSB1_8B', 'Escherichia_coli_MSB2_1A']\n",
    "# gene_localisation_dir=\"/hps/nobackup/iqbal/leandro/pdrv2/paper_pandora2020_analyses/out_20_way/pandora_gene_distance/gene_distance_pandora_paper_tag1/genes_from_truth_or_ref/pandora_nanopore_100x_withdenovo\"\n",
    "# pandora_multisample_vcf_ref=\"/hps/nobackup/iqbal/leandro/pdrv2/paper_pandora2020_analyses/out_20_way/pandora_workflow/pandora_output_pandora_paper_tag1/nanopore/100x/random/compare_withdenovo/pandora_multisample.vcf_ref.fa\"\n",
    "##################################################################################################################"
   ]
  },
  {
   "cell_type": "code",
   "execution_count": null,
   "metadata": {},
   "outputs": [],
   "source": [
    "# get the report\n",
    "def keep_report(filepath):\n",
    "    for sample in samples:\n",
    "        if sample in filepath:\n",
    "            return True\n",
    "    return False\n",
    "\n",
    "reports_filepaths = glob(reports_tsv_glob_path)\n",
    "reports_filepaths = [filepath for filepath in reports_filepaths if keep_report(filepath)]\n",
    "recall_report = RecallReport.from_files(reports_filepaths,\n",
    "                                        concatenate_dfs_one_by_one_keeping_only_best_mappings=True)\n",
    "recall_report.report"
   ]
  },
  {
   "cell_type": "code",
   "execution_count": null,
   "metadata": {},
   "outputs": [],
   "source": [
    "# get a df with the info needed for the pvs\n",
    "chroms_array = []\n",
    "samples_array = []\n",
    "positions = []\n",
    "pv_ids_array = []\n",
    "for header in recall_report.report[\"query_probe_header\"]:\n",
    "    chrom, sample, pv_id, pos = re.findall(\"CHROM=(.+?);SAMPLE=(.+?);.*;PVID=(.+?);.*;OR_POS=(.+?);.*\", header)[0]\n",
    "    chroms_array.append(chrom)\n",
    "    samples_array.append(sample)\n",
    "    pv_ids_array.append(int(pv_id))\n",
    "    positions.append(int(pos))\n",
    "pvs_df = pd.DataFrame(data={\"chrom\": chroms_array, \"sample\": samples_array, \"pos\": positions, \"pv_id\": pv_ids_array})\n",
    "pvs_df.to_csv(\"pvs_df.csv\", index=False)\n",
    "pvs_df"
   ]
  },
  {
   "cell_type": "code",
   "execution_count": null,
   "metadata": {},
   "outputs": [],
   "source": [
    "sample_to_chrom_to_intervaltree = defaultdict(lambda: defaultdict(lambda: intervaltree.IntervalTree()))\n",
    "for sample in samples:\n",
    "    filename = gene_localisation_dir+f\"/{sample}.csv\"\n",
    "    with open(filename) as gene_localisation_fh:\n",
    "        for line in gene_localisation_fh:\n",
    "            status,gene_name,ref_or_truth_id,contig,start,stop,sequence,strand = line.strip().split(\",\")\n",
    "            if status==\"Mapped\":\n",
    "                start, stop = int(start), int(stop)\n",
    "                sample_to_chrom_to_intervaltree[ref_or_truth_id][contig][start:stop] = gene_name\n",
    "\n",
    "sample_to_chrom_to_intervaltree"
   ]
  },
  {
   "cell_type": "code",
   "execution_count": null,
   "metadata": {},
   "outputs": [],
   "source": [
    "def find_genes(chrom, sample, pos):\n",
    "    genes = set()\n",
    "    for gene in sample_to_chrom_to_intervaltree[sample][chrom][pos]:\n",
    "        genes.add(gene.data)\n",
    "    return genes\n",
    "\n",
    "pv_to_genes = defaultdict(set)\n",
    "for chrom, sample, pos, pv_id in zip(pvs_df[\"chrom\"], pvs_df[\"sample\"], pvs_df[\"pos\"], pvs_df[\"pv_id\"]):\n",
    "    pv_to_genes[pv_id].update(find_genes(chrom, sample, pos))\n",
    "\n",
    "for pv in pv_to_genes:\n",
    "    pv_to_genes[pv] = list(pv_to_genes[pv])\n",
    "\n",
    "dump_object_to_json(pv_to_genes, \"pv_to_genes\")\n",
    "\n",
    "pv_to_genes"
   ]
  },
  {
   "cell_type": "code",
   "execution_count": null,
   "metadata": {
    "scrolled": true
   },
   "outputs": [],
   "source": [
    "variation_found_nbofsamples = recall_report.get_proportion_of_allele_seqs_found_for_each_variant_with_nb_of_samples(\n",
    "    binary=True\n",
    ")\n",
    "variation_found_nbofsamples.rename(columns={\"proportion_of_allele_seqs_found_binary\": \"FOUND\"}, inplace=True)\n",
    "variation_found_nbofsamples.reset_index(inplace=True)\n",
    "variation_found_nbofsamples.to_csv(\"variation_found_nbofsamples.csv\", index=False)\n",
    "variation_found_nbofsamples"
   ]
  },
  {
   "cell_type": "code",
   "execution_count": null,
   "metadata": {},
   "outputs": [],
   "source": [
    "pv_to_nb_of_genes_found_by_pandora = {}\n",
    "for pv, genes in pv_to_genes.items():\n",
    "    pv_to_nb_of_genes_found_by_pandora[pv] = len(genes)\n",
    "    \n",
    "pv_id_to_nb_of_genes_found_by_pandora_df = pd.DataFrame(data=pv_to_nb_of_genes_found_by_pandora.items(),\n",
    "                                                 columns=[\"PVID\", \"NB_OF_GENES\"])\n",
    "pv_id_to_nb_of_genes_found_by_pandora_df[\"FOUND_IN_VCF_REF\"] = (pv_id_to_nb_of_genes_found_by_pandora_df[\"NB_OF_GENES\"] > 0).astype(int)\n",
    "\n",
    "pv_id_to_nb_of_genes_found_by_pandora_df.to_csv(\"pv_id_to_nb_of_genes_found_by_pandora_df.csv\", index=False)\n",
    "\n",
    "pv_id_to_nb_of_genes_found_by_pandora_df"
   ]
  },
  {
   "cell_type": "code",
   "execution_count": null,
   "metadata": {
    "scrolled": true
   },
   "outputs": [],
   "source": [
    "pv_ids_to_nb_of_genes_summary = pv_id_to_nb_of_genes_found_by_pandora_df[[\"PVID\", \"NB_OF_GENES\"]].groupby(\"NB_OF_GENES\").count()\n",
    "plot = pv_ids_to_nb_of_genes_summary.plot(kind=\"bar\")\n",
    "fig = plot.get_figure()\n",
    "fig.savefig(\"pandora_nb_of_genes_for_panvars.png\")"
   ]
  },
  {
   "cell_type": "code",
   "execution_count": null,
   "metadata": {},
   "outputs": [],
   "source": [
    "variation_found_nbofsamples = variation_found_nbofsamples.merge(pv_id_to_nb_of_genes_found_by_pandora_df)\n",
    "variation_found_nbofsamples[\"NOT_FOUND_BY_PANDORA_BUT_IN_VCF_REF\"] = ((variation_found_nbofsamples[\"FOUND\"]==0) & (variation_found_nbofsamples[\"FOUND_IN_VCF_REF\"]==1)).astype(int)\n",
    "variation_found_nbofsamples[\"NOT_FOUND_BY_PANDORA_AND_NOT_IN_VCF_REF\"] = ((variation_found_nbofsamples[\"FOUND\"]==0) & (variation_found_nbofsamples[\"FOUND_IN_VCF_REF\"]==0)).astype(int)\n",
    "variation_found_nbofsamples.to_csv(\"variation_found_nbofsamples.csv\", index=False)\n",
    "variation_found_nbofsamples"
   ]
  },
  {
   "cell_type": "code",
   "execution_count": null,
   "metadata": {},
   "outputs": [],
   "source": [
    "df = variation_found_nbofsamples[[\"NB_OF_SAMPLES\", \"FOUND\", \"NOT_FOUND_BY_PANDORA_BUT_IN_VCF_REF\", \"NOT_FOUND_BY_PANDORA_AND_NOT_IN_VCF_REF\"]].groupby(\"NB_OF_SAMPLES\").sum()\n",
    "plot = df.plot(kind='bar', stacked=True)\n",
    "fig = plot.get_figure()\n",
    "fig.savefig(\"pandora_FN.png\")"
   ]
  }
 ],
 "metadata": {
  "kernelspec": {
   "display_name": "Python 3",
   "language": "python",
   "name": "python3"
  },
  "language_info": {
   "codemirror_mode": {
    "name": "ipython",
    "version": 3
   },
   "file_extension": ".py",
   "mimetype": "text/x-python",
   "name": "python",
   "nbconvert_exporter": "python",
   "pygments_lexer": "ipython3",
   "version": "3.8.5"
  }
 },
 "nbformat": 4,
 "nbformat_minor": 5
}
